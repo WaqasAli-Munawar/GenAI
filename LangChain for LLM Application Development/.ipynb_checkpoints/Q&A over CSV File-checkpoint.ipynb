{
 "cells": [
  {
   "cell_type": "code",
   "execution_count": 1,
   "id": "1dea4549",
   "metadata": {},
   "outputs": [
    {
     "data": {
      "text/plain": [
       "True"
      ]
     },
     "execution_count": 1,
     "metadata": {},
     "output_type": "execute_result"
    }
   ],
   "source": [
    "import os\n",
    "from dotenv import load_dotenv\n",
    "\n",
    "load_dotenv()"
   ]
  },
  {
   "cell_type": "code",
   "execution_count": 27,
   "id": "259d276b",
   "metadata": {},
   "outputs": [],
   "source": [
    "# oapi_key=abcd-------------------xyz"
   ]
  },
  {
   "cell_type": "code",
   "execution_count": 2,
   "id": "46ed2968",
   "metadata": {},
   "outputs": [],
   "source": [
    "api_key = os.getenv(\"oapi_key\")"
   ]
  },
  {
   "cell_type": "code",
   "execution_count": 3,
   "id": "15532f48",
   "metadata": {},
   "outputs": [],
   "source": [
    "from langchain.document_loaders import CSVLoader"
   ]
  },
  {
   "cell_type": "code",
   "execution_count": 28,
   "id": "8f0e787e",
   "metadata": {},
   "outputs": [],
   "source": [
    "data = CSVLoader(\"Clothing_1000.csv\", encoding = \"UTF-8\")\n",
    "\n",
    "#!pip install langchain_openai"
   ]
  },
  {
   "cell_type": "code",
   "execution_count": 29,
   "id": "15a8957b",
   "metadata": {},
   "outputs": [
    {
     "data": {
      "text/plain": [
       "<langchain_community.document_loaders.csv_loader.CSVLoader at 0x23036f84150>"
      ]
     },
     "execution_count": 29,
     "metadata": {},
     "output_type": "execute_result"
    }
   ],
   "source": [
    "data"
   ]
  },
  {
   "cell_type": "code",
   "execution_count": 5,
   "id": "71e92880",
   "metadata": {},
   "outputs": [],
   "source": [
    "from langchain_openai import ChatOpenAI, OpenAIEmbeddings\n",
    "from langchain.vectorstores import DocArrayInMemorySearch\n",
    "from langchain.indexes import VectorstoreIndexCreator"
   ]
  },
  {
   "cell_type": "code",
   "execution_count": 6,
   "id": "e1a65635",
   "metadata": {},
   "outputs": [],
   "source": [
    "embeddings = OpenAIEmbeddings(api_key=api_key)"
   ]
  },
  {
   "cell_type": "code",
   "execution_count": 7,
   "id": "75d6f216",
   "metadata": {},
   "outputs": [],
   "source": [
    "db = VectorstoreIndexCreator(vectorstore_cls= DocArrayInMemorySearch,\n",
    "                               embedding=embeddings).from_loaders([data])"
   ]
  },
  {
   "cell_type": "code",
   "execution_count": 9,
   "id": "9033131d",
   "metadata": {},
   "outputs": [],
   "source": [
    "q = \"Please list all your the shirts with sun protection in a table in markdown and summarize each one.\""
   ]
  },
  {
   "cell_type": "code",
   "execution_count": 8,
   "id": "78c06a23",
   "metadata": {},
   "outputs": [],
   "source": [
    "llm = ChatOpenAI(model= \"gpt-3.5-turbo\", api_key=api_key, temperature = 0)"
   ]
  },
  {
   "cell_type": "code",
   "execution_count": 10,
   "id": "1a42fca2",
   "metadata": {},
   "outputs": [],
   "source": [
    "response = db.query(q, llm = llm)"
   ]
  },
  {
   "cell_type": "code",
   "execution_count": 11,
   "id": "19227ea0",
   "metadata": {},
   "outputs": [],
   "source": [
    "from IPython.display import Markdown, display"
   ]
  },
  {
   "cell_type": "code",
   "execution_count": 12,
   "id": "e5cbfa85",
   "metadata": {},
   "outputs": [
    {
     "data": {
      "text/markdown": [
       "| Shirt Name                               | Description                                                                                                                                                                                                                                                      |\n",
       "|------------------------------------------|------------------------------------------------------------------------------------------------------------------------------------------------------------------------------------------------------------------------------------------------------------------|\n",
       "| Men's Tropical Plaid Short-Sleeve Shirt | Made of 100% polyester, this shirt is rated UPF 50+ for superior sun protection. It has front and back cape venting, two front bellows pockets, and is wrinkle-resistant. Provides the highest rated sun protection. |\n",
       "| Men's Plaid Tropic Shirt, Short-Sleeve   | Made of 52% polyester and 48% nylon, this shirt offers UPF 50+ coverage. It is wrinkle-free, quickly evaporates perspiration, has front and back cape venting, and two front bellows pockets.                    |\n",
       "| Men's TropicVibe Shirt, Short-Sleeve     | This shirt is made of 71% Nylon, 29% Polyester, with 100% Polyester knit mesh lining. It has UPF 50+ sun protection, front and back cape venting, two front bellows pockets, and is wrinkle-resistant.            |\n",
       "| Sun Shield Shirt                        | Made of 78% nylon and 22% Lycra Xtra Life fiber, this shirt has UPF 50+ sun protection. It wicks moisture for quick-drying comfort, fits comfortably over swimsuits, and is abrasion-resistant.                |"
      ],
      "text/plain": [
       "<IPython.core.display.Markdown object>"
      ]
     },
     "metadata": {},
     "output_type": "display_data"
    }
   ],
   "source": [
    "display(Markdown(response))"
   ]
  },
  {
   "cell_type": "markdown",
   "id": "c37b1ff6",
   "metadata": {},
   "source": [
    "# Alternate Solution"
   ]
  },
  {
   "cell_type": "code",
   "execution_count": 20,
   "id": "cd492936",
   "metadata": {},
   "outputs": [],
   "source": [
    "docs = data.load()"
   ]
  },
  {
   "cell_type": "code",
   "execution_count": 21,
   "id": "29b38612",
   "metadata": {},
   "outputs": [
    {
     "data": {
      "text/plain": [
       "1000"
      ]
     },
     "execution_count": 21,
     "metadata": {},
     "output_type": "execute_result"
    }
   ],
   "source": [
    "len(docs)"
   ]
  },
  {
   "cell_type": "code",
   "execution_count": 22,
   "id": "4ffc1b16",
   "metadata": {},
   "outputs": [],
   "source": [
    "from langchain.chains import RetrievalQA"
   ]
  },
  {
   "cell_type": "code",
   "execution_count": 23,
   "id": "ba6bf5ea",
   "metadata": {},
   "outputs": [],
   "source": [
    "db = DocArrayInMemorySearch.from_documents(docs, embedding= embeddings)"
   ]
  },
  {
   "cell_type": "code",
   "execution_count": 24,
   "id": "e67bb1b9",
   "metadata": {},
   "outputs": [],
   "source": [
    "qa = RetrievalQA.from_chain_type(retriever = db.as_retriever(), llm = llm)"
   ]
  },
  {
   "cell_type": "code",
   "execution_count": 25,
   "id": "6cec0f79",
   "metadata": {},
   "outputs": [],
   "source": [
    "response = qa.run(q)"
   ]
  },
  {
   "cell_type": "code",
   "execution_count": 26,
   "id": "7e2f96f0",
   "metadata": {},
   "outputs": [
    {
     "data": {
      "text/markdown": [
       "| Shirt Name                           | Description                                                                                                                                                                                                                                                                                                                                                      |\n",
       "|--------------------------------------|------------------------------------------------------------------------------------------------------------------------------------------------------------------------------------------------------------------------------------------------------------------------------------------------------------------------------------------------------------------|\n",
       "| Men's Tropical Plaid Short-Sleeve    | Lightweight shirt rated UPF 50+ for superior sun protection. Made of 100% polyester, wrinkle-resistant, with front and back cape venting, and two front bellows pockets. Provides the highest rated sun protection possible, blocking 98% of harmful UV rays.                                                                                                 |\n",
       "| Men's Plaid Tropic Shirt, Short-Sleeve| Ultracomfortable shirt rated UPF 50+, designed for fishing and extended travel. Made of 52% polyester and 48% nylon, wrinkle-free, and quick-drying. Features front and back cape venting, two front bellows pockets. Provides UPF 50+ coverage, blocking 98% of harmful UV rays.                                                  |\n",
       "| Men's TropicVibe Shirt, Short-Sleeve  | Lightweight sun-protection shirt with built-in UPF 50+. Made of 71% Nylon, 29% Polyester, with a traditional fit. Wrinkle-resistant, with front and back cape venting, and two front bellows pockets. Provides the highest rated sun protection possible, blocking 98% of harmful UV rays.          |\n",
       "| Sun Shield Shirt                     | High-performance sun shirt with UPF 50+ rating. Made of 78% nylon, 22% Lycra Xtra Life fiber. Moisture-wicking, fits comfortably over swimsuits, abrasion-resistant. Provides SPF 50+ sun protection, recommended by The Skin Cancer Foundation, blocking 98% of harmful UV rays. |\n",
       "\n",
       "These are the four shirts with sun protection, each offering a high UPF rating, quick-drying fabric, and various additional features like venting and pockets."
      ],
      "text/plain": [
       "<IPython.core.display.Markdown object>"
      ]
     },
     "metadata": {},
     "output_type": "display_data"
    }
   ],
   "source": [
    "display(Markdown(response))"
   ]
  },
  {
   "cell_type": "code",
   "execution_count": null,
   "id": "b44bd154",
   "metadata": {},
   "outputs": [],
   "source": []
  },
  {
   "cell_type": "code",
   "execution_count": null,
   "id": "a3cd2fd3",
   "metadata": {},
   "outputs": [],
   "source": []
  },
  {
   "cell_type": "code",
   "execution_count": null,
   "id": "50ef22d0",
   "metadata": {},
   "outputs": [],
   "source": []
  }
 ],
 "metadata": {
  "kernelspec": {
   "display_name": "Python 3 (ipykernel)",
   "language": "python",
   "name": "python3"
  },
  "language_info": {
   "codemirror_mode": {
    "name": "ipython",
    "version": 3
   },
   "file_extension": ".py",
   "mimetype": "text/x-python",
   "name": "python",
   "nbconvert_exporter": "python",
   "pygments_lexer": "ipython3",
   "version": "3.11.5"
  }
 },
 "nbformat": 4,
 "nbformat_minor": 5
}
